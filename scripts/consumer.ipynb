{
 "cells": [
  {
   "cell_type": "code",
   "execution_count": 1,
   "metadata": {},
   "outputs": [],
   "source": [
    "from pykafka import KafkaClient"
   ]
  },
  {
   "cell_type": "code",
   "execution_count": 2,
   "metadata": {},
   "outputs": [],
   "source": [
    "client = KafkaClient(hosts=\"127.0.0.1:9092\")"
   ]
  },
  {
   "cell_type": "code",
   "execution_count": 3,
   "metadata": {},
   "outputs": [],
   "source": [
    "def get_messages(topicname):\n",
    "    def events():\n",
    "        for i in client.topics[topicname].get_simple_consumer():\n",
    "            yield 'data:{0}\\n\\n'.format(i.value.decode())\n",
    "            \n",
    "    return events()"
   ]
  },
  {
   "cell_type": "code",
   "execution_count": null,
   "metadata": {},
   "outputs": [
    {
     "name": "stdout",
     "output_type": "stream",
     "text": [
      "data:test message 1\n",
      "\n",
      "\n",
      "data:test message 4\n",
      "\n",
      "\n",
      "data:test message 9\n",
      "\n",
      "\n",
      "data:test message 16\n",
      "\n",
      "\n",
      "data:test message 25\n",
      "\n",
      "\n",
      "data:test message 36\n",
      "\n",
      "\n",
      "data:test message 49\n",
      "\n",
      "\n",
      "data:test message 1\n",
      "\n",
      "\n",
      "data:test message 4\n",
      "\n",
      "\n",
      "data:test message 9\n",
      "\n",
      "\n",
      "data:test message 16\n",
      "\n",
      "\n",
      "data:{'name': 'messenger_1', 'message_id': 'messenger_1_5c1b2347-6a29-47eb-9f2e-e9fb249c7220', 'timestamp': '2020-03-05 10:53:53.738097', 'lat': 0.0, 'lon': 0.0}\n",
      "\n",
      "\n",
      "data:{'name': 'messenger_1', 'message_id': 'messenger_1_f852e25f-f632-4a48-a59c-a3b1010eb3dc', 'timestamp': '2020-03-05 10:53:53.738097', 'lat': 0.0, 'lon': 0.0}\n",
      "\n",
      "\n",
      "data:{'name': 'messenger_1', 'message_id': 'messenger_1_8fc96ece-a8c0-4179-9c5f-d9c3386daff5', 'timestamp': '2020-03-05 10:53:53.738097', 'lat': 0.0, 'lon': 0.0}\n",
      "\n",
      "\n",
      "data:{'name': 'messenger_1', 'message_id': 'messenger_1_817e1991-5a54-43e3-ae76-1838d9750b5c', 'timestamp': '2020-03-05 10:53:53.738097', 'lat': 51.1, 'lon': 13.3}\n",
      "\n",
      "\n",
      "data:{'name': 'messenger_1', 'message_id': 'messenger_1_926d9d88-9eec-477a-a73a-2f27783ee4f6', 'timestamp': '2020-03-05 10:53:53.738097', 'lat': 51.1, 'lon': 13.3}\n",
      "\n",
      "\n",
      "data:{'name': 'messenger_1', 'message_id': 'messenger_1_f69d2dc7-606b-44e3-87e6-f296500bbe12', 'timestamp': '2020-03-05 10:53:53.738097', 'lat': 51.1, 'lon': 13.3}\n",
      "\n",
      "\n",
      "data:{'name': 'messenger_2', 'message_id': 'messenger_2_ac1e195f-6aea-4259-8a03-57af2fa8dd3a', 'timestamp': '2020-03-05 10:53:53.738097', 'lat': 51.1, 'lon': 13.3}\n",
      "\n",
      "\n",
      "data:{'name': 'messenger_2', 'message_id': 'messenger_2_b51fd6aa-c99c-48b8-b163-f43347a5c669', 'timestamp': '2020-03-05 10:53:53.738097', 'lat': 51.1, 'lon': 13.3}\n",
      "\n",
      "\n",
      "data:{'name': 'messenger_2', 'message_id': 'messenger_2_39df3e41-320b-4a67-8b13-7519f0b7fde0', 'timestamp': '2020-03-05 16:29:24.081083', 'lat': 51.1, 'lon': 13.3}\n",
      "\n",
      "\n",
      "data:{'name': 'messenger_2', 'message_id': 'messenger_2_65c88e47-32d6-4572-b006-9f09b4dd4e46', 'timestamp': '2020-03-05 16:29:24.081083', 'lat': 51.1, 'lon': 13.3}\n",
      "\n",
      "\n",
      "data:{'name': 'messenger_2', 'message_id': 'messenger_2_0212d7eb-7bef-4af0-9114-f3e314dc7753', 'timestamp': '2020-03-05 16:29:24.081083', 'lat': 51.1, 'lon': 13.3}\n",
      "\n",
      "\n",
      "data:{'name': 'messenger_2', 'message_id': 'messenger_2_79f0fa32-dd26-4429-b71a-71b0655b31d3', 'timestamp': '2020-03-05 16:29:24.081083', 'lat': 51.1, 'lon': 13.3}\n",
      "\n",
      "\n",
      "data:{'name': 'messenger_2', 'message_id': 'messenger_2_35e9337b-2f43-4949-8483-5756ac99ec0d', 'timestamp': '2020-03-05 16:29:24.081083', 'lat': 51.1, 'lon': 13.3}\n",
      "\n",
      "\n",
      "data:{'name': 'messenger_2', 'message_id': 'messenger_2_1c3fc8f3-d164-476b-a068-d408bf7ce6aa', 'timestamp': '2020-03-05 16:29:24.081083', 'lat': 51.1, 'lon': 13.3}\n",
      "\n",
      "\n",
      "data:{'name': 'messenger_2', 'message_id': 'messenger_2_8a4f88dd-7ddf-4986-a41e-e8d840fa5b83', 'timestamp': '2020-03-05 16:29:24.081083', 'lat': 51.1, 'lon': 13.3}\n",
      "\n",
      "\n",
      "data:{'name': 'messenger_2', 'message_id': 'messenger_2_b8f50d18-d690-46e5-87fc-2a65c4f4d4c1', 'timestamp': '2020-03-05 16:32:27.913871', 'lat': 51.1, 'lon': 13.3}\n",
      "\n",
      "\n",
      "data:{'name': 'messenger_2', 'message_id': 'messenger_2_a2ae81a0-65af-4f5c-909b-1bbbf103b57a', 'timestamp': '2020-03-05 16:32:27.913871', 'lat': 51.1, 'lon': 13.3}\n",
      "\n",
      "\n"
     ]
    }
   ],
   "source": [
    "for x in get_messages(\"geostream\"):\n",
    "    print(x)"
   ]
  }
 ],
 "metadata": {
  "kernelspec": {
   "display_name": "Python 3",
   "language": "python",
   "name": "python3"
  },
  "language_info": {
   "codemirror_mode": {
    "name": "ipython",
    "version": 3
   },
   "file_extension": ".py",
   "mimetype": "text/x-python",
   "name": "python",
   "nbconvert_exporter": "python",
   "pygments_lexer": "ipython3",
   "version": "3.7.5"
  }
 },
 "nbformat": 4,
 "nbformat_minor": 4
}
